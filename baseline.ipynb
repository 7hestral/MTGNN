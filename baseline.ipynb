{
 "cells": [
  {
   "cell_type": "code",
   "execution_count": 54,
   "metadata": {},
   "outputs": [],
   "source": [
    "import pandas as pd\n",
    "import datetime\n",
    "from sklearn.neural_network import MLPClassifier\n",
    "import random"
   ]
  },
  {
   "cell_type": "code",
   "execution_count": 55,
   "metadata": {
    "tags": [
     "outputPrepend",
     "outputPrepend",
     "outputPrepend",
     "outputPrepend",
     "outputPrepend",
     "outputPrepend",
     "outputPrepend",
     "outputPrepend",
     "outputPrepend"
    ]
   },
   "outputs": [],
   "source": [
    "seq_len = 14\n",
    "selected_user = 1032\n",
    "user_lst = [290, 407, 581, 1032, 1436]\n",
    "def match_dataset_date(selected_user, seq_len):\n",
    "    y_df = pd.read_csv(f'/mnt/results/user_{selected_user}_puqe.csv')\n",
    "    x_df = pd.read_csv(f'/mnt/results/user_{selected_user}_activity_bodyport_hyperimpute_with_date.csv')\n",
    "    y_df['date'] = pd.to_datetime(y_df['date'])\n",
    "    x_df['date'] = pd.to_datetime(x_df['date'])\n",
    "    dataset = []\n",
    "    for i in range(len(y_df)):\n",
    "        row = y_df.iloc[i]\n",
    "        day_before = row['date'] - datetime.timedelta(days=seq_len)\n",
    "        x = (x_df[(x_df['date'] >= day_before) & (x_df['date'] <= row['date'])])\n",
    "        dataset.append((x.drop('date', axis=1).to_numpy(), row['answer_text']))\n",
    "    return dataset\n",
    "# gnn_dataset_1032 = match_dataset_date(selected_user, seq_len)\n",
    "# gnn_dataset_1032 = list(filter(lambda x: len(x[0])>=seq_len, gnn_dataset))\n",
    "# baseline_dataset_1032 = list(map(lambda x: (x[0][-7:], x[1]), gnn_dataset))\n",
    "baseline_ds_lst = []\n",
    "for u in user_lst:\n",
    "    gnn_dataset = match_dataset_date(u, seq_len)\n",
    "    gnn_dataset = list(filter(lambda x: len(x[0])>=seq_len, gnn_dataset))\n",
    "    baseline_dataset = list(map(lambda x: (x[0][-7:], x[1]), gnn_dataset))\n",
    "    baseline_ds_lst.append(baseline_dataset)\n"
   ]
  },
  {
   "cell_type": "code",
   "execution_count": 56,
   "metadata": {},
   "outputs": [],
   "source": [
    "baseline_ds = []\n",
    "for ds in baseline_ds_lst:\n",
    "    baseline_ds.extend(ds)\n",
    "len(baseline_ds)\n",
    "random.seed(90)\n",
    "random.shuffle(baseline_ds)"
   ]
  },
  {
   "cell_type": "code",
   "execution_count": 57,
   "metadata": {},
   "outputs": [],
   "source": [
    "baseline_x = list(map(lambda x: x[0].ravel(), baseline_ds))\n",
    "baseline_y = list(map(lambda x: x[1], baseline_ds))\n",
    "baseline_x_train = baseline_x[:120]\n",
    "baseline_x_test = baseline_x[120:]\n",
    "baseline_y_train = baseline_y[:120]\n",
    "baseline_y_test = baseline_y[120:]"
   ]
  },
  {
   "cell_type": "code",
   "execution_count": 58,
   "metadata": {},
   "outputs": [
    {
     "output_type": "execute_result",
     "data": {
      "text/plain": "0.5"
     },
     "metadata": {},
     "execution_count": 58
    }
   ],
   "source": [
    "clf = MLPClassifier(random_state=90, max_iter=300).fit(baseline_x_train, baseline_y_train)\n",
    "clf.score(baseline_x_test, baseline_y_test)"
   ]
  },
  {
   "cell_type": "code",
   "execution_count": null,
   "metadata": {},
   "outputs": [],
   "source": []
  }
 ],
 "metadata": {
  "language_info": {
   "codemirror_mode": {
    "name": "ipython",
    "version": 3
   },
   "file_extension": ".py",
   "mimetype": "text/x-python",
   "name": "python",
   "nbconvert_exporter": "python",
   "pygments_lexer": "ipython3",
   "version": "3.7.0-final"
  },
  "orig_nbformat": 2,
  "kernelspec": {
   "name": "python37064bitmyvenv42640430fa1449dabc77a405631854d3",
   "display_name": "Python 3.7.0 64-bit ('myvenv')"
  }
 },
 "nbformat": 4,
 "nbformat_minor": 2
}